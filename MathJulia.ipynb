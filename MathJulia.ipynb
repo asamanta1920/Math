{
 "cells": [
  {
   "cell_type": "code",
   "execution_count": 5,
   "metadata": {},
   "outputs": [
    {
     "name": "stdout",
     "output_type": "stream",
     "text": [
      "1 9\n",
      "2 8\n",
      "3 11\n",
      "4 2\n",
      "5 3\n",
      "6 0\n",
      "7 9\n",
      "8 8\n",
      "9 11\n",
      "10 2\n",
      "11 3\n",
      "12 0\n",
      "13 9\n",
      "14 8\n",
      "15 11\n",
      "16 2\n",
      "17 3\n",
      "18 0\n",
      "19 9\n",
      "20 8\n",
      "21 11\n",
      "22 2\n",
      "23 3\n",
      "24 0\n",
      "25 9\n",
      "26 8\n",
      "27 11\n",
      "28 2\n",
      "29 3\n",
      "30 0\n"
     ]
    }
   ],
   "source": [
    "# This is the julia program I used to solve the following math problem:\n",
    "# For what values of n, [(10^n) - 1] is divisible by 13?\n",
    "\n",
    "# i = 0\n",
    "# tens = 1\n",
    "# while i < 100\n",
    "#   println(i, \" \", mod(tens - 1, 13))\n",
    "#   global tens *= 10\n",
    "#   global i += 1\n",
    "# end\n",
    "\n",
    "for i in 1:30\n",
    "  num = BigInt(10)^i\n",
    "  number = num - 1\n",
    "  result = number % 13\n",
    "  println(i, \" \", result)\n",
    "end"
   ]
  },
  {
   "cell_type": "code",
   "execution_count": null,
   "metadata": {},
   "outputs": [],
   "source": []
  }
 ],
 "metadata": {
  "kernelspec": {
   "display_name": "Julia 1.3.0",
   "language": "julia",
   "name": "julia-1.3"
  },
  "language_info": {
   "file_extension": ".jl",
   "mimetype": "application/julia",
   "name": "julia",
   "version": "1.3.0"
  }
 },
 "nbformat": 4,
 "nbformat_minor": 2
}
